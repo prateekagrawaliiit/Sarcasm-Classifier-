{
 "cells": [
  {
   "cell_type": "code",
   "execution_count": 30,
   "metadata": {
    "colab": {},
    "colab_type": "code",
    "id": "wy_FP9j-v-j3"
   },
   "outputs": [],
   "source": [
    "import json \n",
    "import tensorflow as tf \n",
    "from tensorflow.keras.preprocessing.text import Tokenizer\n",
    "from tensorflow.keras.preprocessing.sequence import pad_sequences"
   ]
  },
  {
   "cell_type": "code",
   "execution_count": 31,
   "metadata": {
    "colab": {},
    "colab_type": "code",
    "id": "89SzZDz8wNU2"
   },
   "outputs": [],
   "source": [
    "vocab_size = 10000\n",
    "embeddings_dim = 16\n",
    "oov_tok = '<OOV>'\n",
    "max_length = 32\n",
    "trucn_type= 'post'\n",
    "padding_type = 'post'\n",
    "training_size = 20000"
   ]
  },
  {
   "cell_type": "code",
   "execution_count": 32,
   "metadata": {
    "colab": {},
    "colab_type": "code",
    "id": "1n-iqPG0wmUS"
   },
   "outputs": [],
   "source": [
    "with open('sarcasm.json','r') as f :\n",
    "    datastore = json.load(f)"
   ]
  },
  {
   "cell_type": "code",
   "execution_count": 33,
   "metadata": {
    "colab": {},
    "colab_type": "code",
    "id": "kRItKfqpwmrJ"
   },
   "outputs": [],
   "source": [
    "sentences = []\n",
    "labels = []"
   ]
  },
  {
   "cell_type": "code",
   "execution_count": 34,
   "metadata": {
    "colab": {},
    "colab_type": "code",
    "id": "WXTjBwnNwmtU"
   },
   "outputs": [],
   "source": [
    "for item in datastore : \n",
    "    sentences.append(item['headline'])\n",
    "    labels.append(item['is_sarcastic'])"
   ]
  },
  {
   "cell_type": "code",
   "execution_count": 35,
   "metadata": {
    "colab": {},
    "colab_type": "code",
    "id": "qDfI2lJLwmvO"
   },
   "outputs": [],
   "source": [
    "training_sentences = sentences[0:training_size]\n",
    "testing_sentences = sentences[training_size:]\n",
    "training_labels = labels[:training_size]\n",
    "testing_labels = labels[training_size:]"
   ]
  },
  {
   "cell_type": "code",
   "execution_count": 36,
   "metadata": {
    "colab": {},
    "colab_type": "code",
    "id": "KS0JqtV1wmxa"
   },
   "outputs": [],
   "source": [
    "tokenizer = Tokenizer(num_words = vocab_size,oov_token=oov_tok)\n",
    "tokenizer.fit_on_texts(training_sentences)\n",
    "word_index = tokenizer.word_index"
   ]
  },
  {
   "cell_type": "code",
   "execution_count": 37,
   "metadata": {},
   "outputs": [],
   "source": [
    "training_sequences = tokenizer.texts_to_sequences(training_sentences)\n",
    "training_padded = pad_sequences(training_sequences,padding=padding_type,truncating=trucn_type,maxlen=max_length)\n",
    "\n",
    "testing_sequences = tokenizer.texts_to_sequences(testing_sentences)\n",
    "testing_padded = pad_sequences(testing_sequences,padding=padding_type,truncating=trucn_type,maxlen=max_length)"
   ]
  },
  {
   "cell_type": "code",
   "execution_count": 38,
   "metadata": {},
   "outputs": [],
   "source": [
    "model = tf.keras.Sequential([\n",
    "    tf.keras.layers.Embedding(vocab_size,embeddings_dim,input_length=max_length),\n",
    "    tf.keras.layers.Flatten(),\n",
    "    tf.keras.layers.Dense(24,activation='relu'),\n",
    "    tf.keras.layers.Dense(1,activation='sigmoid')\n",
    "])"
   ]
  },
  {
   "cell_type": "code",
   "execution_count": 39,
   "metadata": {},
   "outputs": [],
   "source": [
    "model.compile(loss='binary_crossentropy',optimizer='adam',metrics=['accuracy'])"
   ]
  },
  {
   "cell_type": "code",
   "execution_count": 40,
   "metadata": {},
   "outputs": [
    {
     "name": "stdout",
     "output_type": "stream",
     "text": [
      "Model: \"sequential_2\"\n",
      "_________________________________________________________________\n",
      "Layer (type)                 Output Shape              Param #   \n",
      "=================================================================\n",
      "embedding_3 (Embedding)      (None, 32, 16)            160000    \n",
      "_________________________________________________________________\n",
      "flatten_3 (Flatten)          (None, 512)               0         \n",
      "_________________________________________________________________\n",
      "dense_5 (Dense)              (None, 24)                12312     \n",
      "_________________________________________________________________\n",
      "dense_6 (Dense)              (None, 1)                 25        \n",
      "=================================================================\n",
      "Total params: 172,337\n",
      "Trainable params: 172,337\n",
      "Non-trainable params: 0\n",
      "_________________________________________________________________\n"
     ]
    }
   ],
   "source": [
    "model.summary()"
   ]
  },
  {
   "cell_type": "code",
   "execution_count": 43,
   "metadata": {},
   "outputs": [],
   "source": [
    "num_epochs=30\n",
    "import numpy as np\n",
    "training_padded = np.array(training_padded)\n",
    "training_labels = np.array(training_labels)\n",
    "testing_padded = np.array(testing_padded)\n",
    "testing_labels = np.array(testing_labels)"
   ]
  },
  {
   "cell_type": "code",
   "execution_count": 45,
   "metadata": {},
   "outputs": [
    {
     "name": "stdout",
     "output_type": "stream",
     "text": [
      "Train on 20000 samples, validate on 6709 samples\n",
      "Epoch 1/30\n",
      "20000/20000 [==============================] - 2s 94us/sample - loss: 0.0325 - accuracy: 0.9908 - val_loss: 0.4803 - val_accuracy: 0.8556\n",
      "Epoch 2/30\n",
      "20000/20000 [==============================] - 2s 83us/sample - loss: 0.0106 - accuracy: 0.9982 - val_loss: 0.5600 - val_accuracy: 0.8530\n",
      "Epoch 3/30\n",
      "20000/20000 [==============================] - 2s 83us/sample - loss: 0.0042 - accuracy: 0.9992 - val_loss: 0.6226 - val_accuracy: 0.8518\n",
      "Epoch 4/30\n",
      "20000/20000 [==============================] - 2s 87us/sample - loss: 0.0025 - accuracy: 0.9995 - val_loss: 0.6734 - val_accuracy: 0.8520\n",
      "Epoch 5/30\n",
      "20000/20000 [==============================] - 2s 76us/sample - loss: 0.0019 - accuracy: 0.9995 - val_loss: 0.7213 - val_accuracy: 0.8501\n",
      "Epoch 6/30\n",
      "20000/20000 [==============================] - 2s 81us/sample - loss: 0.0014 - accuracy: 0.9996 - val_loss: 0.7688 - val_accuracy: 0.8487\n",
      "Epoch 7/30\n",
      "20000/20000 [==============================] - 2s 89us/sample - loss: 0.0016 - accuracy: 0.9995 - val_loss: 0.7761 - val_accuracy: 0.8472\n",
      "Epoch 8/30\n",
      "20000/20000 [==============================] - 2s 91us/sample - loss: 0.0014 - accuracy: 0.9996 - val_loss: 0.8018 - val_accuracy: 0.8489\n",
      "Epoch 9/30\n",
      "20000/20000 [==============================] - 2s 88us/sample - loss: 0.0010 - accuracy: 0.9996 - val_loss: 0.8267 - val_accuracy: 0.8466\n",
      "Epoch 10/30\n",
      "20000/20000 [==============================] - 2s 93us/sample - loss: 9.1318e-04 - accuracy: 0.9998 - val_loss: 0.8648 - val_accuracy: 0.8439\n",
      "Epoch 11/30\n",
      "20000/20000 [==============================] - 2s 92us/sample - loss: 8.7230e-04 - accuracy: 0.9997 - val_loss: 0.8855 - val_accuracy: 0.8460\n",
      "Epoch 12/30\n",
      "20000/20000 [==============================] - 1s 73us/sample - loss: 9.8381e-04 - accuracy: 0.9997 - val_loss: 0.9029 - val_accuracy: 0.8441\n",
      "Epoch 13/30\n",
      "20000/20000 [==============================] - 2s 92us/sample - loss: 9.4511e-04 - accuracy: 0.9996 - val_loss: 0.9235 - val_accuracy: 0.8448\n",
      "Epoch 14/30\n",
      "20000/20000 [==============================] - 2s 89us/sample - loss: 9.3644e-04 - accuracy: 0.9997 - val_loss: 0.9267 - val_accuracy: 0.8451\n",
      "Epoch 15/30\n",
      "20000/20000 [==============================] - 2s 89us/sample - loss: 7.6065e-04 - accuracy: 0.9997 - val_loss: 0.9543 - val_accuracy: 0.8448\n",
      "Epoch 16/30\n",
      "20000/20000 [==============================] - 2s 92us/sample - loss: 7.2610e-04 - accuracy: 0.9997 - val_loss: 0.9649 - val_accuracy: 0.8445\n",
      "Epoch 17/30\n",
      "20000/20000 [==============================] - 2s 92us/sample - loss: 9.8207e-04 - accuracy: 0.9997 - val_loss: 0.9969 - val_accuracy: 0.8399\n",
      "Epoch 18/30\n",
      "20000/20000 [==============================] - 2s 91us/sample - loss: 6.7814e-04 - accuracy: 0.9997 - val_loss: 1.0523 - val_accuracy: 0.8414\n",
      "Epoch 19/30\n",
      "20000/20000 [==============================] - 2s 90us/sample - loss: 8.5281e-04 - accuracy: 0.9997 - val_loss: 0.9975 - val_accuracy: 0.8395\n",
      "Epoch 20/30\n",
      "20000/20000 [==============================] - 2s 90us/sample - loss: 6.4610e-04 - accuracy: 0.9997 - val_loss: 1.0364 - val_accuracy: 0.8329\n",
      "Epoch 21/30\n",
      "20000/20000 [==============================] - 2s 90us/sample - loss: 5.4089e-04 - accuracy: 0.9998 - val_loss: 1.0436 - val_accuracy: 0.8396\n",
      "Epoch 22/30\n",
      "20000/20000 [==============================] - 2s 91us/sample - loss: 7.4752e-04 - accuracy: 0.9997 - val_loss: 1.0439 - val_accuracy: 0.8402\n",
      "Epoch 23/30\n",
      "20000/20000 [==============================] - 2s 110us/sample - loss: 7.8749e-04 - accuracy: 0.9997 - val_loss: 1.1242 - val_accuracy: 0.8366\n",
      "Epoch 24/30\n",
      "20000/20000 [==============================] - 2s 86us/sample - loss: 7.1466e-04 - accuracy: 0.9996 - val_loss: 1.0628 - val_accuracy: 0.8348\n",
      "Epoch 25/30\n",
      "20000/20000 [==============================] - 2s 85us/sample - loss: 5.4369e-04 - accuracy: 0.9998 - val_loss: 1.1063 - val_accuracy: 0.8340\n",
      "Epoch 26/30\n",
      "20000/20000 [==============================] - 2s 77us/sample - loss: 6.2024e-04 - accuracy: 0.9997 - val_loss: 1.0963 - val_accuracy: 0.8347\n",
      "Epoch 27/30\n",
      "20000/20000 [==============================] - 2s 89us/sample - loss: 5.5910e-04 - accuracy: 0.9998 - val_loss: 1.1688 - val_accuracy: 0.8302\n",
      "Epoch 28/30\n",
      "20000/20000 [==============================] - 2s 89us/sample - loss: 7.3116e-04 - accuracy: 0.9997 - val_loss: 1.1358 - val_accuracy: 0.8293\n",
      "Epoch 29/30\n",
      "20000/20000 [==============================] - 2s 104us/sample - loss: 5.0579e-04 - accuracy: 0.9997 - val_loss: 1.2523 - val_accuracy: 0.8258\n",
      "Epoch 30/30\n",
      "20000/20000 [==============================] - 2s 82us/sample - loss: 5.1844e-04 - accuracy: 0.9998 - val_loss: 1.2882 - val_accuracy: 0.8272\n"
     ]
    }
   ],
   "source": [
    "history = model.fit(training_padded,training_labels,epochs=num_epochs,validation_data=(testing_padded,testing_labels))"
   ]
  },
  {
   "cell_type": "code",
   "execution_count": 46,
   "metadata": {},
   "outputs": [
    {
     "data": {
      "image/png": "[encoded data removed]",
      "text/plain": [
       "<Figure size 432x288 with 1 Axes>"
      ]
     },
     "metadata": {
      "needs_background": "light"
     },
     "output_type": "display_data"
    },
    {
     "data": {
      "image/png": "[encoded data removed]",
      "text/plain": [
       "<Figure size 432x288 with 1 Axes>"
      ]
     },
     "metadata": {
      "needs_background": "light"
     },
     "output_type": "display_data"
    }
   ],
   "source": [
    "import matplotlib.pyplot as plt\n",
    "\n",
    "\n",
    "def plot_graphs(history, string):\n",
    "  plt.plot(history.history[string])\n",
    "  plt.plot(history.history['val_'+string])\n",
    "  plt.xlabel(\"Epochs\")\n",
    "  plt.ylabel(string)\n",
    "  plt.legend([string, 'val_'+string])\n",
    "  plt.show()\n",
    "  \n",
    "plot_graphs(history, \"accuracy\")\n",
    "plot_graphs(history, \"loss\")"
   ]
  },
  {
   "cell_type": "code",
   "execution_count": 47,
   "metadata": {},
   "outputs": [
    {
     "name": "stdout",
     "output_type": "stream",
     "text": [
      "former <OOV> store clerk sues over secret 'black <OOV> for minority shoppers ? ? ? ? ? ? ? ? ? ? ? ? ? ? ? ? ? ? ? ?\n",
      "mom starting to fear son's web series closest thing she will have to grandchild\n",
      "1\n"
     ]
    }
   ],
   "source": [
    "reverse_word_index = dict([(value, key) for (key, value) in word_index.items()])\n",
    "\n",
    "def decode_sentence(text):\n",
    "    return ' '.join([reverse_word_index.get(i, '?') for i in text])\n",
    "\n",
    "print(decode_sentence(training_padded[0]))\n",
    "print(training_sentences[2])\n",
    "print(labels[2])"
   ]
  },
  {
   "cell_type": "code",
   "execution_count": 48,
   "metadata": {},
   "outputs": [
    {
     "name": "stdout",
     "output_type": "stream",
     "text": [
      "(10000, 16)\n"
     ]
    }
   ],
   "source": [
    "e = model.layers[0]\n",
    "weights = e.get_weights()[0]\n",
    "print(weights.shape) # shape: (vocab_size, embedding_dim)\n"
   ]
  },
  {
   "cell_type": "code",
   "execution_count": 49,
   "metadata": {},
   "outputs": [],
   "source": [
    "import io\n",
    "\n",
    "out_v = io.open('vecs.tsv', 'w', encoding='utf-8')\n",
    "out_m = io.open('meta.tsv', 'w', encoding='utf-8')\n",
    "for word_num in range(1, vocab_size):\n",
    "  word = reverse_word_index[word_num]\n",
    "  embeddings = weights[word_num]\n",
    "  out_m.write(word + \"\\n\")\n",
    "  out_v.write('\\t'.join([str(x) for x in embeddings]) + \"\\n\")\n",
    "out_v.close()\n",
    "out_m.close()"
   ]
  },
  {
   "cell_type": "code",
   "execution_count": 51,
   "metadata": {},
   "outputs": [
    {
     "name": "stdout",
     "output_type": "stream",
     "text": [
      "[[9.9992549e-01]\n",
      " [3.7701109e-06]]\n"
     ]
    }
   ],
   "source": [
    "sentence = [\"granny starting to fear spiders in the garden might be real\", \"game of thrones season finale showing this sunday night\"]\n",
    "sequences = tokenizer.texts_to_sequences(sentence)\n",
    "padded = pad_sequences(sequences, maxlen=max_length, padding=padding_type, truncating=trucn_type)\n"
   ]
  },
  {
   "cell_type": "code",
   "execution_count": 56,
   "metadata": {},
   "outputs": [
    {
     "data": {
      "text/plain": [
       "array([1, 0])"
      ]
     },
     "execution_count": 56,
     "metadata": {},
     "output_type": "execute_result"
    }
   ],
   "source": [
    "prediction = model.predict(padded)\n",
    "labels = (prediction > 0.5).astype(np.int)\n",
    "labels.squeeze()"
   ]
  },
  {
   "cell_type": "code",
   "execution_count": null,
   "metadata": {},
   "outputs": [],
   "source": []
  }
 ],
 "metadata": {
  "colab": {
   "collapsed_sections": [],
   "name": "Sarcasm.ipynb",
   "provenance": []
  },
  "kernelspec": {
   "display_name": "Python 3",
   "language": "python",
   "name": "python3"
  },
  "language_info": {
   "codemirror_mode": {
    "name": "ipython",
    "version": 3
   },
   "file_extension": ".py",
   "mimetype": "text/x-python",
   "name": "python",
   "nbconvert_exporter": "python",
   "pygments_lexer": "ipython3",
   "version": "3.6.9"
  }
 },
 "nbformat": 4,
 "nbformat_minor": 4
}
